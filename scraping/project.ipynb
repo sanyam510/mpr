{
 "cells": [
  {
   "cell_type": "markdown",
   "id": "572e93b4",
   "metadata": {},
   "source": [
    "#"
   ]
  },
  {
   "cell_type": "code",
   "execution_count": null,
   "id": "f6e5819a",
   "metadata": {},
   "outputs": [],
   "source": [
    "import streamlit as st\n",
    "import pandas as pd\n",
    "import numpy as np\n",
    "import plotly.express as px\n",
    "import plotly.graph_objects as go\n",
    "from sklearn.preprocessing import MinMaxScaler\n",
    "from sklearn.model_selection import train_test_split"
   ]
  },
  {
   "cell_type": "markdown",
   "id": "e742536a",
   "metadata": {},
   "source": [
    " Load and Preprocess Data"
   ]
  },
  {
   "cell_type": "code",
   "execution_count": null,
   "id": "952a3cd9",
   "metadata": {},
   "outputs": [],
   "source": [
    "@st.cache_data\n",
    "def load_data():\n",
    "    df = pd.read_csv(\"C:\\\\Users\\\\sanyam mahajan\\\\Documents\\\\Mpr\\\\scraping\\\\data_eda.csv\")\n",
    "    \n",
    "    # Clean Price Range\n",
    "    df['Price Range'] = df['Price Range'].str.replace('â_x0080_x0093', '-', regex=True)\n",
    "    \n",
    "    # Calculate Value for Money properly\n",
    "    df['Value for Money'] = df['Rating'] / df['Price']\n",
    "    \n",
    "    # Create Discount Efficiency metric\n",
    "    df['Discount Efficiency'] = df['Discount Amount'] / df['Price']\n",
    "    \n",
    "    # Price Segmentation\n",
    "    bins = [0, 500, 1000, 2000, float('inf')]\n",
    "    labels = ['Budget', 'Mid-Range', 'Premium', 'Luxury']\n",
    "    df['Price Segment'] = pd.cut(df['Price'], bins=bins, labels=labels)\n",
    "    \n",
    "    return df\n",
    "\n",
    "df = load_data()"
   ]
  },
  {
   "cell_type": "markdown",
   "id": "0d59dd1f",
   "metadata": {},
   "source": [
    "Dashboard Setup"
   ]
  },
  {
   "cell_type": "code",
   "execution_count": null,
   "id": "c27de7d9",
   "metadata": {},
   "outputs": [],
   "source": [
    "st.set_page_config(page_title=\"Flipkart Headphones Analysis\", layout=\"wide\")\n",
    "st.title(\"🎧 Comprehensive Bluetooth Headphones Analysis\")\n"
   ]
  },
  {
   "cell_type": "markdown",
   "id": "c16d85be",
   "metadata": {},
   "source": [
    "Sidebar Filters"
   ]
  },
  {
   "cell_type": "markdown",
   "id": "606ba5cb",
   "metadata": {},
   "source": [
    " Apply Filters"
   ]
  },
  {
   "cell_type": "code",
   "execution_count": null,
   "id": "e787ef4f",
   "metadata": {},
   "outputs": [],
   "source": [
    "filtered_df = df[\n",
    "    (df['Brand'].isin(selected_brands) if selected_brands else True) &\n",
    "    (df['Price'].between(*price_range)) &\n",
    "    (df['Rating'].between(*rating_filter)) &\n",
    "    (df['Discount %'].between(*discount_filter)) &\n",
    "    ((df['Product Type'] == product_type) if product_type != 'All' else True) &\n",
    "    (df['Price Segment'].isin(price_segment) if price_segment else True)\n",
    "]\\"
   ]
  },
  {
   "cell_type": "markdown",
   "id": "149fda95",
   "metadata": {},
   "source": [
    "# Section 1: Core Metrics"
   ]
  },
  {
   "cell_type": "code",
   "execution_count": null,
   "id": "635a21ce",
   "metadata": {},
   "outputs": [],
   "source": [
    "st.header(\"📊 Core Market Metrics\")\n",
    "kpi1, kpi2, kpi3, kpi4, kpi5 = st.columns(5)\n",
    "\n",
    "with kpi1:\n",
    "    st.metric(\"Avg Price\", f\"₹{filtered_df['Price'].mean():.1f}\", \n",
    "             delta=f\"₹{filtered_df['Price'].mean() - df['Price'].mean():.1f} vs Overall\")\n",
    "    \n",
    "with kpi2:\n",
    "    st.metric(\"Premium Index\", \n",
    "             f\"{(len(filtered_df[filtered_df['Price Segment'].isin(['Premium','Luxury'])])/len(filtered_df))*100:.1f}%\",\n",
    "             \"Premium+Luxury Share\")\n",
    "\n",
    "with kpi3:\n",
    "    st.metric(\"Discount Power\", \n",
    "             f\"₹{filtered_df['Discount Amount'].sum():,.0f}\",\n",
    "             \"Total Discounts Given\")\n",
    "\n",
    "with kpi4:\n",
    "    st.metric(\"Rating Power\", \n",
    "             f\"{filtered_df['Rating'].mean():.1f}/5 ⭐\",\n",
    "             f\"Based on {filtered_df['Number of Ratings'].sum():,} reviews\")\n",
    "\n",
    "with kpi5:\n",
    "    st.metric(\"Market Diversity\", \n",
    "             f\"{filtered_df['Brand'].nunique()} Brands\",\n",
    "             f\"{filtered_df['Product Type'].nunique()} Categories\")\n"
   ]
  },
  {
   "cell_type": "markdown",
   "id": "27825766",
   "metadata": {},
   "source": [
    "# Section 2: Brand Analysis"
   ]
  },
  {
   "cell_type": "code",
   "execution_count": null,
   "id": "1034ffd6",
   "metadata": {},
   "outputs": [],
   "source": [
    "st.header(\"🏷 Brand Intelligence\")\n",
    "col1, col2, col3 = st.columns([2,1,1])\n",
    "\n",
    "with col1:\n",
    "    # Brand Market Share\n",
    "    brand_market = filtered_df.groupby('Brand').agg({\n",
    "        'Price': 'sum',\n",
    "        'Number of Ratings': 'sum',\n",
    "        'Discount %': 'mean'\n",
    "    }).reset_index()\n",
    "    \n",
    "    fig = px.treemap(brand_market,\n",
    "                    path=['Brand'],\n",
    "                    values='Price',\n",
    "                    color='Discount %',\n",
    "                    hover_data=['Number of Ratings'],\n",
    "                    color_continuous_scale='RdYlGn',\n",
    "                    title=\"Brand Market Share (Size=Revenue, Color=Discounts)\")\n",
    "    st.plotly_chart(fig, use_container_width=True)\n",
    "\n",
    "with col2:\n",
    "    # Brand Rating Distribution\n",
    "    fig = px.box(filtered_df, \n",
    "                x='Brand', \n",
    "                y='Rating',\n",
    "                color='Brand',\n",
    "                title=\"Brand Rating Distribution\")\n",
    "    st.plotly_chart(fig, use_container_width=True)\n",
    "\n",
    "with col3:\n",
    "    # Brand-Category Matrix\n",
    "    cross_tab = pd.crosstab(filtered_df['Brand'], filtered_df['Product Type'])\n",
    "    fig = px.imshow(cross_tab,\n",
    "                   labels=dict(x=\"Category\", y=\"Brand\", color=\"Count\"),\n",
    "                   title=\"Brand vs Category Matrix\")\n",
    "    st.plotly_chart(fig, use_container_width=True)\n"
   ]
  },
  {
   "cell_type": "markdown",
   "id": "f0fb9bcd",
   "metadata": {},
   "source": [
    "# Section 3: Price Analysis"
   ]
  },
  {
   "cell_type": "code",
   "execution_count": null,
   "id": "88e1d9d6",
   "metadata": {},
   "outputs": [],
   "source": [
    "st.header(\"💰 Price Optimization Analysis\")\n",
    "col1, col2 = st.columns(2)\n",
    "\n",
    "with col1:\n",
    "    # Price-Rating-Discount 3D Analysis\n",
    "    fig = px.scatter_3d(filtered_df,\n",
    "                       x='Price',\n",
    "                       y='Rating',\n",
    "                       z='Discount %',\n",
    "                       color='Brand',\n",
    "                       size='Number of Ratings',\n",
    "                       hover_name='Product Name',\n",
    "                       title=\"3D Pricing Strategy Analysis\")\n",
    "    st.plotly_chart(fig, use_container_width=True)\n",
    "\n",
    "with col2:\n",
    "    # Price Segment Analysis\n",
    "    segment_analysis = filtered_df.groupby('Price Segment').agg({\n",
    "        'Price': 'mean',\n",
    "        'Rating': 'mean',\n",
    "        'Discount %': 'mean'\n",
    "    }).reset_index()\n",
    "    \n",
    "    fig = px.bar(segment_analysis,\n",
    "                x='Price Segment',\n",
    "                y=['Price', 'Rating', 'Discount %'],\n",
    "                barmode='group',\n",
    "                title=\"Price Segment Comparison\")\n",
    "    st.plotly_chart(fig, use_container_width=True)"
   ]
  },
  {
   "cell_type": "markdown",
   "id": "4bec361c",
   "metadata": {},
   "source": [
    "# Section 4: Discount Deep Dive"
   ]
  },
  {
   "cell_type": "code",
   "execution_count": null,
   "id": "6b3f8b20",
   "metadata": {},
   "outputs": [],
   "source": [
    "st.header(\"🎯 Discount Effectiveness\")\n",
    "col1, col2 = st.columns(2)\n",
    "\n",
    "with col1:\n",
    "    # Discount vs Sales Performance\n",
    "    fig = px.scatter(filtered_df,\n",
    " a                  x='Discount %',\n",
    "                   y='Number of Ratings',\n",
    "                   size='Price',\n",
    "                   color='Rating',\n",
    "                   trendline=\"lowess\",\n",
    "                   title=\"Discount Impact on Popularity & Ratings\")\n",
    "    st.plotly_chart(fig, use_container_width=True)\n",
    "\n",
    "with col2:\n",
    "    # Discount Strategy Matrix\n",
    "    fig = px.density_heatmap(filtered_df,\n",
    "                           x='Price',\n",
    "                           y='Discount %',\n",
    "                           nbinsx=20,\n",
    "                           nbinsy=20,\n",
    "                           title=\"Discount-Price Density Matrix\")\n",
    "    st.plotly_chart(fig, use_container_width=True)\n"
   ]
  },
  {
   "cell_type": "markdown",
   "id": "3b4abc29",
   "metadata": {},
   "source": [
    "# Section 5: Product Intelligence"
   ]
  },
  {
   "cell_type": "code",
   "execution_count": null,
   "id": "5828e735",
   "metadata": {},
   "outputs": [],
   "source": [
    "st.subheader(\"Product Comparison Matrix\")\n",
    "selected_products = st.multiselect(\"Select products\", \n",
    "                                  options=filtered_df['Product Name'],\n",
    "                                  format_func=lambda x: f\"{x[:50]}... ({df[df['Product Name']==x]['Brand'].values[0]})\")\n",
    "\n",
    "if selected_products:\n",
    "    compare_df = filtered_df[filtered_df['Product Name'].isin(selected_products)]\n",
    "    \n",
    "    # Normalize features for radar chart\n",
    "    features = compare_df[['Price', 'Rating', 'Discount %', 'Number of Ratings']]\n",
    "    scaler = MinMaxScaler()\n",
    "    normalized = scaler.fit_transform(features)\n",
    "    \n",
    "    fig = go.Figure()\n",
    "    \n",
    "    for i, row in enumerate(normalized):\n",
    "        fig.add_trace(go.Scatterpolar(\n",
    "            r=row,\n",
    "            theta=['Price', 'Rating', 'Discount %', 'Popularity'],\n",
    "            fill='toself',\n",
    "            name=selected_products[i][:30] + \"...\" if i < len(selected_products) else f\"Product {i+1}\"\n",
    "        ))\n",
    "\n",
    "    \n",
    "    fig.update_layout(\n",
    "        polar=dict(radialaxis=dict(visible=True)),\n",
    "        title=\"Product Comparison Radar Chart\"\n",
    "    )\n",
    "    st.plotly_chart(fig, use_container_width=True)"
   ]
  },
  {
   "cell_type": "markdown",
   "id": "6ffc3374",
   "metadata": {},
   "source": [
    "# Section 6: Advanced Analytics"
   ]
  },
  {
   "cell_type": "code",
   "execution_count": null,
   "id": "f45ec241",
   "metadata": {},
   "outputs": [],
   "source": [
    "st.header(\"🔮 Predictive Insights\")\n",
    "\n",
    "col1, col2 = st.columns(2)\n",
    "\n",
    "with col1:\n",
    "    # Price vs Rating Predictive Trend\n",
    "    fig = px.scatter(filtered_df,\n",
    "                   x='Price',\n",
    "                   y='Rating',\n",
    "                   trendline=\"lowess\",\n",
    "                   title=\"Price-Rating Relationship with Trend\")\n",
    "    st.plotly_chart(fig, use_container_width=True)\n",
    "\n",
    "with col2:\n",
    "    # Value for Money Analysis\n",
    "    fig = px.box(filtered_df,\n",
    "                x='Price Segment',\n",
    "                y='Value for Money',\n",
    "                color='Product Type',\n",
    "                title=\"Value for Money Analysis\")\n",
    "    st.plotly_chart(fig, use_container_width=True)"
   ]
  },
  {
   "cell_type": "markdown",
   "id": "ac6220c1",
   "metadata": {},
   "source": [
    "# Section 7: Raw Data Explorer"
   ]
  },
  {
   "cell_type": "code",
   "execution_count": null,
   "id": "04ddd9be",
   "metadata": {},
   "outputs": [],
   "source": [
    "st.header(\"📁 Data Explorer\")\n",
    "st.data_editor(\n",
    "    filtered_df.sort_values('Number of Ratings', ascending=False),\n",
    "    column_config={\n",
    "        \"Product Link\": st.column_config.LinkColumn(),\n",
    "        \"Discount %\": st.column_config.ProgressColumn(\n",
    "            format=\"%d%%\",\n",
    "            min_value=0,\n",
    "            max_value=100,\n",
    "        )\n",
    "    },\n",
    "    hide_index=True,\n",
    "    use_container_width=True\n",
    ")"
   ]
  },
  {
   "cell_type": "markdown",
   "id": "0f52e261",
   "metadata": {},
   "source": [
    "# Section 8: Machine Learning Models"
   ]
  },
  {
   "cell_type": "code",
   "execution_count": null,
   "id": "320db304",
   "metadata": {},
   "outputs": [],
   "source": [
    "st.header(\"🤖 Practical ML Implementations\")"
   ]
  },
  {
   "cell_type": "markdown",
   "id": "49f3d9eb",
   "metadata": {},
   "source": [
    "1. Price Prediction Model (Regression)"
   ]
  },
  {
   "cell_type": "code",
   "execution_count": null,
   "id": "4bfea9b6",
   "metadata": {},
   "outputs": [],
   "source": [
    "st.subheader(\"💰 Price Prediction Engine\")\n",
    "with st.expander(\"Train Price Predictor\"):\n",
    "    from sklearn.ensemble import RandomForestRegressor\n",
    "    from sklearn.metrics import r2_score, mean_absolute_error\n",
    "    \n",
    "    # Feature Engineering\n",
    "    ml_df = filtered_df[['Brand', 'Product Type', 'Rating', 'Discount %', \n",
    "                        'Number of Ratings', 'Price']].copy()\n",
    "    \n",
    "    # Convert categorical features\n",
    "    ml_df = pd.get_dummies(ml_df, columns=['Brand', 'Product Type'])\n",
    "    \n",
    "    X = ml_df.drop('Price', axis=1)\n",
    "    y = ml_df['Price']\n",
    "    \n",
    "    # Train-test split\n",
    "    X_train, X_test, y_train, y_test = train_test_split(X, y, test_size=0.2, random_state=42)\n",
    "    \n",
    "    model = RandomForestRegressor(n_estimators=100)\n",
    "    model.fit(X_train, y_train)\n",
    "    \n",
    "    # Prediction and Evaluation\n",
    "    y_pred = model.predict(X_test)\n",
    "    accuracy = r2_score(y_test, y_pred)\n",
    "    mae = mean_absolute_error(y_test, y_pred)\n",
    "    \n",
    "    # Visualization\n",
    "    fig = px.scatter(x=y_test, y=y_pred, \n",
    "                    labels={'x': 'Actual Price', 'y': 'Predicted Price'},\n",
    "                    title=f\"Price Prediction Performance (R² = {accuracy:.2f}, MAE = ₹{mae:.1f})\")\n",
    "    st.plotly_chart(fig)\n",
    "    \n",
    "    # Feature Importance\n",
    "    importance = pd.DataFrame({\n",
    "        'Feature': X.columns,\n",
    "        'Importance': model.feature_importances_\n",
    "    }).sort_values('Importance', ascending=False)\n",
    "    \n",
    "    fig = px.bar(importance.head(10), x='Feature', y='Importance', \n",
    "                title='Top 10 Important Features for Price Prediction')\n",
    "    st.plotly_chart(fig)\n"
   ]
  },
  {
   "cell_type": "markdown",
   "id": "4143128f",
   "metadata": {},
   "source": [
    "2. Rating Classifier (Classification)"
   ]
  },
  {
   "cell_type": "code",
   "execution_count": null,
   "id": "10d677ab",
   "metadata": {},
   "outputs": [],
   "source": [
    "st.subheader(\"⭐ Rating Category Predictor\")\n",
    "with st.expander(\"Predict Rating Category\"):\n",
    "    from sklearn.ensemble import GradientBoostingClassifier\n",
    "    from sklearn.metrics import classification_report\n",
    "    \n",
    "    # Create rating categories\n",
    "    rating_df = filtered_df.copy()\n",
    "    rating_df['Rating Category'] = pd.cut(rating_df['Rating'],\n",
    "                                         bins=[0, 3.5, 4.2, 5],\n",
    "                                         labels=['Low', 'Medium', 'High'])\n",
    "    \n",
    "    # Feature selection\n",
    "    X = rating_df[['Price', 'Discount %', 'Brand', 'Product Type', 'Number of Ratings']]\n",
    "    X = pd.get_dummies(X, columns=['Brand', 'Product Type'])\n",
    "    y = rating_df['Rating Category']\n",
    "    # Remove rows where y is NaN\n",
    "    X = X[y.notna()]\n",
    "    y = y.dropna()\n",
    "\n",
    "    \n",
    "    # Train model\n",
    "    clf = GradientBoostingClassifier()\n",
    "    clf.fit(X, y)\n",
    "    \n",
    "    # Live prediction interface\n",
    "    st.markdown(\"*Predict for New Product:*\")\n",
    "    col1, col2, col3 = st.columns(3)\n",
    "    with col1:\n",
    "        price = st.number_input(\"Price (₹)\", min_value=0)\n",
    "    with col2:\n",
    "        discount = st.slider(\"Discount (%)\", 0, 100)\n",
    "    with col3:\n",
    "        brand = st.selectbox(\"Brand\", filtered_df['Brand'].unique())\n",
    "    \n",
    "    product_type = st.selectbox(\"Product Type\", filtered_df['Product Type'].unique())\n",
    "    num_ratings = st.number_input(\"Expected Number of Ratings\", min_value=0)\n",
    "    \n",
    "    if st.button(\"Predict Rating Category\"):\n",
    "        input_data = pd.DataFrame([[price, discount, brand, product_type, num_ratings]],\n",
    "                                 columns=['Price', 'Discount %', 'Brand', 'Product Type', 'Number of Ratings'])\n",
    "        input_encoded = pd.get_dummies(input_data)\n",
    "        \n",
    "        # Align columns\n",
    "        input_encoded = input_encoded.reindex(columns=X.columns, fill_value=0)\n",
    "        \n",
    "        prediction = clf.predict(input_encoded)[0]\n",
    "        probability = clf.predict_proba(input_encoded)[0].max()\n",
    "        \n",
    "        st.success(f\"Predicted Rating Category: *{prediction}* (Confidence: {probability:.0%})\")\n"
   ]
  },
  {
   "cell_type": "markdown",
   "id": "e4a8504d",
   "metadata": {},
   "source": [
    "3. Product Clustering (Unsupervised Learning)"
   ]
  },
  {
   "cell_type": "code",
   "execution_count": null,
   "id": "b0f2149f",
   "metadata": {},
   "outputs": [],
   "source": [
    "\n",
    "st.subheader(\"🔍 Product Clustering Analysis\")\n",
    "with st.expander(\"Explore Product Segments\"):\n",
    "    from sklearn.cluster import KMeans\n",
    "    from sklearn.preprocessing import StandardScaler\n",
    "    \n",
    "    # Prepare data\n",
    "    cluster_df = filtered_df[['Price', 'Rating', 'Discount %', 'Number of Ratings']]\n",
    "    \n",
    "    # Normalization\n",
    "    scaler = StandardScaler()\n",
    "    scaled_data = scaler.fit_transform(cluster_df)\n",
    "    \n",
    "    # Determine optimal clusters\n",
    "    wcss = []\n",
    "    for i in range(1, 6):\n",
    "        kmeans = KMeans(n_clusters=i, init='k-means++', random_state=42, n_init=10)\n",
    "        kmeans.fit(scaled_data)\n",
    "        wcss.append(kmeans.inertia_)\n",
    "    \n",
    "    # Elbow method visualization\n",
    "    fig1 = px.line(x=range(1,6), y=wcss, \n",
    "                  title='Elbow Method for Optimal Clusters',\n",
    "                  labels={'x': 'Number of Clusters', 'y': 'WCSS'})\n",
    "    st.plotly_chart(fig1)\n",
    "    \n",
    "    # Final clustering\n",
    "    n_clusters = st.slider(\"Select Number of Clusters\", 2, 5, 3)\n",
    "    kmeans = KMeans(n_clusters=n_clusters, random_state=42)\n",
    "    clusters = kmeans.fit_predict(scaled_data)\n",
    "    \n",
    "    # Visualize clusters\n",
    "    cluster_df['Cluster'] = clusters\n",
    "    fig2 = px.scatter_matrix(cluster_df,\n",
    "                            dimensions=['Price', 'Rating', 'Discount %', 'Number of Ratings'],\n",
    "                            color='Cluster',\n",
    "                            title=\"Product Cluster Analysis\")\n",
    "    st.plotly_chart(fig2)"
   ]
  },
  {
   "cell_type": "markdown",
   "id": "be48b009",
   "metadata": {},
   "source": [
    "4. Discount Effectiveness Predictor"
   ]
  },
  {
   "cell_type": "code",
   "execution_count": null,
   "id": "40663832",
   "metadata": {},
   "outputs": [],
   "source": [
    "st.subheader(\"🎯 Discount Impact Analyzer\")\n",
    "with st.expander(\"Predict Discount Impact\"):\n",
    "    from sklearn.linear_model import LogisticRegression\n",
    "    \n",
    "    # Create target variable (High Popularity)\n",
    "    discount_df = filtered_df.copy()\n",
    "    discount_df['High Popularity'] = np.where(discount_df['Number of Ratings'] > \n",
    "                                            discount_df['Number of Ratings'].median(), 1, 0)\n",
    "    \n",
    "    # Prepare data\n",
    "    X = discount_df[['Price', 'Discount %', 'Brand', 'Product Type']]\n",
    "    X = pd.get_dummies(X)\n",
    "    y = discount_df['High Popularity']\n",
    "    \n",
    "    # Train model\n",
    "    model = LogisticRegression()\n",
    "    model.fit(X, y)\n",
    "    \n",
    "    # Prediction interface\n",
    "    st.markdown(\"*Will this discount strategy work?*\")\n",
    "    col1, col2 = st.columns(2)\n",
    "    with col1:\n",
    "        disc_price = st.number_input(\"Product Price (₹)\", min_value=0)\n",
    "    with col2:\n",
    "        disc_pct = st.slider(\"Planned Discount (%)\", 0, 100)\n",
    "    \n",
    "    disc_brand = st.selectbox(\"Product Brand\", filtered_df['Brand'].unique())\n",
    "    disc_type = st.selectbox(\"Product Type\", filtered_df['Product Type'].unique(), key=\"product_type_selectbox\")\n",
    "    \n",
    "    \n",
    "\n",
    "    \n",
    "    if st.button(\"Predict Popularity\"):\n",
    "        input_data = pd.DataFrame([[disc_price, disc_pct, disc_brand, disc_type]],\n",
    "                                 columns=['Price', 'Discount %', 'Brand', 'Product Type'])\n",
    "        input_encoded = pd.get_dummies(input_data)\n",
    "        input_encoded = input_encoded.reindex(columns=X.columns, fill_value=0)\n",
    "        \n",
    "        prediction = model.predict(input_encoded)[0]\n",
    "        proba = model.predict_proba(input_encoded)[0][1]\n",
    "        \n",
    "        if prediction == 1:\n",
    "            st.success(f\"High Popularity Expected ({proba:.0%} confidence)\")\n",
    "        else:\n",
    "            st.error(f\"Low Popularity Risk ({1-proba:.0%} confidence)\")"
   ]
  }
 ],
 "metadata": {
  "kernelspec": {
   "display_name": "base",
   "language": "python",
   "name": "python3"
  },
  "language_info": {
   "codemirror_mode": {
    "name": "ipython",
    "version": 3
   },
   "file_extension": ".py",
   "mimetype": "text/x-python",
   "name": "python",
   "nbconvert_exporter": "python",
   "pygments_lexer": "ipython3",
   "version": "3.12.4"
  }
 },
 "nbformat": 4,
 "nbformat_minor": 5
}
